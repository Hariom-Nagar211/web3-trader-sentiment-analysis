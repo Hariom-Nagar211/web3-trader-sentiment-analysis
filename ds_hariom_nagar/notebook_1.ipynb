{
 "cells": [
  {
   "cell_type": "markdown",
   "metadata": {},
   "source": [
    "# Web3 Trading Analysis: Trader Behavior vs Market Sentiment\n",
    "**Author:** Hariom Nagar  \n",
    "**Date:** September 2025  \n",
    "**Objective:** Analyze the relationship between trader behavior and market sentiment using Bitcoin Fear & Greed Index and Hyperliquid trading data"
   ]
  },
  {
   "cell_type": "code",
   "execution_count": null,
   "metadata": {},
   "outputs": [],
   "source": [
    "# Import required libraries\n",
    "import pandas as pd\n",
    "import numpy as np\n",
    "import matplotlib.pyplot as plt\n",
    "import seaborn as sns\n",
    "from datetime import datetime, timedelta\n",
    "import warnings\n",
    "warnings.filterwarnings('ignore')\n",
    "\n",
    "# Set plotting style\n",
    "plt.style.use('seaborn-v0_8')\n",
    "sns.set_palette('husl')\n",
    "\n",
    "print(\"Libraries imported successfully!\")"
   ]
  },
  {
   "cell_type": "markdown",
   "metadata": {},
   "source": [
    "## 1. Data Loading and Initial Exploration"
   ]
  },
  {
   "cell_type": "code",
   "execution_count": null,
   "metadata": {},
   "outputs": [],
   "source": [
    "# Load datasets\n",
    "fear_greed = pd.read_csv('csv_files/fear_greed_index.csv')\n",
    "trading_data = pd.read_csv('csv_files/historical_data.csv')\n",
    "\n",
    "print(f\"Fear & Greed Index shape: {fear_greed.shape}\")\n",
    "print(f\"Trading Data shape: {trading_data.shape}\")\n",
    "\n",
    "print(\"\\nFear & Greed Index columns:\")\n",
    "print(fear_greed.columns.tolist())\n",
    "\n",
    "print(\"\\nTrading Data columns:\")\n",
    "print(trading_data.columns.tolist())"
   ]
  },
  {
   "cell_type": "code",
   "execution_count": null,
   "metadata": {},
   "outputs": [],
   "source": [
    "# Display first few rows\n",
    "print(\"Fear & Greed Index - First 5 rows:\")\n",
    "display(fear_greed.head())\n",
    "\n",
    "print(\"\\nTrading Data - First 5 rows:\")\n",
    "display(trading_data.head())"
   ]
  },
  {
   "cell_type": "markdown",
   "metadata": {},
   "source": [
    "## 2. Data Preprocessing and Cleaning"
   ]
  },
  {
   "cell_type": "code",
   "execution_count": null,
   "metadata": {},
   "outputs": [],
   "source": [
    "# Clean Fear & Greed data\n",
    "fear_greed['date'] = pd.to_datetime(fear_greed['date'])\n",
    "fear_greed = fear_greed.sort_values('date')\n",
    "\n",
    "print(\"Fear & Greed Index Info:\")\n",
    "print(fear_greed.info())\n",
    "print(f\"\\nDate range: {fear_greed['date'].min()} to {fear_greed['date'].max()}\")\n",
    "print(f\"Unique classifications: {fear_greed['classification'].unique()}\")"
   ]
  },
  {
   "cell_type": "code",
   "execution_count": null,
   "metadata": {},
   "outputs": [],
   "source": [
    "# Clean Trading data\n",
    "trading_data['Timestamp IST'] = pd.to_datetime(trading_data['Timestamp IST'], format='%d-%m-%Y %H:%M')\n",
    "trading_data['Date'] = trading_data['Timestamp IST'].dt.date\n",
    "trading_data['Date'] = pd.to_datetime(trading_data['Date'])\n",
    "\n",
    "# Clean numeric columns\n",
    "numeric_cols = ['Execution Price', 'Size Tokens', 'Size USD', 'Closed PnL', 'Fee']\n",
    "for col in numeric_cols:\n",
    "    trading_data[col] = pd.to_numeric(trading_data[col], errors='coerce')\n",
    "\n",
    "print(\"Trading Data Info:\")\n",
    "print(trading_data.info())\n",
    "print(f\"\\nDate range: {trading_data['Date'].min()} to {trading_data['Date'].max()}\")\n",
    "print(f\"Unique traders: {trading_data['Account'].nunique()}\")\n",
    "print(f\"Unique coins: {trading_data['Coin'].nunique()}\")"
   ]
  }
 ],
 "metadata": {
  "kernelspec": {
   "display_name": "Python 3",
   "language": "python",
   "name": "python3"
  },
  "language_info": {
   "codemirror_mode": {
    "name": "ipython",
    "version": 3
   },
   "file_extension": ".py",
   "mimetype": "text/x-python",
   "name": "python",
   "nbconvert_exporter": "python",
   "pygments_lexer": "ipython3",
   "version": "3.8.5"
  }
 },
 "nbformat": 4,
 "nbformat_minor": 4
}

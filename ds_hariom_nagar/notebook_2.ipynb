{
 "cells": [
  {
   "cell_type": "markdown",
   "metadata": {},
   "source": [
    "# Advanced Analysis: Trader Behavior vs Market Sentiment\n",
    "**Continuation of Web3 Trading Analysis**"
   ]
  },
  {
   "cell_type": "code",
   "execution_count": null,
   "metadata": {},
   "outputs": [],
   "source": [
    "# Import libraries and load preprocessed data\n",
    "import pandas as pd\n",
    "import numpy as np\n",
    "import matplotlib.pyplot as plt\n",
    "import seaborn as sns\n",
    "from scipy import stats\n",
    "from sklearn.preprocessing import LabelEncoder\n",
    "from sklearn.cluster import KMeans\n",
    "import warnings\n",
    "warnings.filterwarnings('ignore')\n",
    "\n",
    "# Load and preprocess data (assuming data is already cleaned from notebook_1)\n",
    "fear_greed = pd.read_csv('csv_files/fear_greed_index.csv')\n",
    "trading_data = pd.read_csv('csv_files/historical_data.csv')\n",
    "\n",
    "# Data preprocessing\n",
    "fear_greed['date'] = pd.to_datetime(fear_greed['date'])\n",
    "trading_data['Timestamp IST'] = pd.to_datetime(trading_data['Timestamp IST'], format='%d-%m-%Y %H:%M')\n",
    "trading_data['Date'] = trading_data['Timestamp IST'].dt.date\n",
    "trading_data['Date'] = pd.to_datetime(trading_data['Date'])\n",
    "\n",
    "numeric_cols = ['Execution Price', 'Size Tokens', 'Size USD', 'Closed PnL', 'Fee']\n",
    "for col in numeric_cols:\n",
    "    trading_data[col] = pd.to_numeric(trading_data[col], errors='coerce')"
   ]
  },
  {
   "cell_type": "markdown",
   "metadata": {},
   "source": [
    "## 3. Exploratory Data Analysis"
   ]
  },
  {
   "cell_type": "code",
   "execution_count": null,
   "metadata": {},
   "outputs": [],
   "source": [
    "# Fear & Greed Index distribution\n",
    "fig, axes = plt.subplots(2, 2, figsize=(15, 12))\n",
    "\n",
    "# Distribution of Fear & Greed values\n",
    "axes[0,0].hist(fear_greed['value'], bins=30, alpha=0.7, color='skyblue')\n",
    "axes[0,0].set_title('Distribution of Fear & Greed Index Values')\n",
    "axes[0,0].set_xlabel('Index Value')\n",
    "axes[0,0].set_ylabel('Frequency')\n",
    "\n",
    "# Classification counts\n",
    "fear_greed['classification'].value_counts().plot(kind='bar', ax=axes[0,1], color='lightcoral')\n",
    "axes[0,1].set_title('Fear & Greed Classifications')\n",
    "axes[0,1].set_xlabel('Classification')\n",
    "axes[0,1].set_ylabel('Count')\n",
    "axes[0,1].tick_params(axis='x', rotation=45)\n",
    "\n",
    "# Time series of Fear & Greed Index\n",
    "axes[1,0].plot(fear_greed['date'], fear_greed['value'], alpha=0.7, color='green')\n",
    "axes[1,0].set_title('Fear & Greed Index Over Time')\n",
    "axes[1,0].set_xlabel('Date')\n",
    "axes[1,0].set_ylabel('Index Value')\n",
    "axes[1,0].tick_params(axis='x', rotation=45)\n",
    "\n",
    "# Trading volume over time\n",
    "daily_volume = trading_data.groupby('Date')['Size USD'].sum().reset_index()\n",
    "axes[1,1].plot(daily_volume['Date'], daily_volume['Size USD'], alpha=0.7, color='orange')\n",
    "axes[1,1].set_title('Daily Trading Volume (USD)')\n",
    "axes[1,1].set_xlabel('Date')\n",
    "axes[1,1].set_ylabel('Volume (USD)')\n",
    "axes[1,1].tick_params(axis='x', rotation=45)\n",
    "\n",
    "plt.tight_layout()\n",
    "plt.savefig('outputs/eda_overview.png', dpi=300, bbox_inches='tight')\n",
    "plt.show()"
   ]
  },
  {
   "cell_type": "markdown",
   "metadata": {},
   "source": [
    "## 4. Merging Datasets and Correlation Analysis"
   ]
  },
  {
   "cell_type": "code",
   "execution_count": null,
   "metadata": {},
   "outputs": [],
   "source": [
    "# Merge datasets on date\n",
    "# First, aggregate trading data by date\n",
    "daily_trading_stats = trading_data.groupby('Date').agg({\n",
    "    'Size USD': ['sum', 'mean', 'count'],\n",
    "    'Closed PnL': ['sum', 'mean'],\n",
    "    'Account': 'nunique',\n",
    "    'Execution Price': 'mean'\n",
    "}).round(2)\n",
    "\n",
    "# Flatten column names\n",
    "daily_trading_stats.columns = ['_'.join(col).strip() for col in daily_trading_stats.columns]\n",
    "daily_trading_stats = daily_trading_stats.reset_index()\n",
    "\n",
    "# Rename columns for clarity\n",
    "daily_trading_stats.columns = ['Date', 'Total_Volume_USD', 'Avg_Trade_Size_USD', 'Trade_Count', \n",
    "                              'Total_PnL', 'Avg_PnL', 'Unique_Traders', 'Avg_Price']\n",
    "\n",
    "# Merge with fear & greed data\n",
    "merged_data = pd.merge(fear_greed, daily_trading_stats, left_on='date', right_on='Date', how='inner')\n",
    "\n",
    "print(f\"Merged dataset shape: {merged_data.shape}\")\n",
    "print(f\"Date range: {merged_data['date'].min()} to {merged_data['date'].max()}\")\n",
    "display(merged_data.head())"
   ]
  },
  {
   "cell_type": "code",
   "execution_count": null,
   "metadata": {},
   "outputs": [],
   "source": [
    "# Correlation analysis\n",
    "correlation_cols = ['value', 'Total_Volume_USD', 'Avg_Trade_Size_USD', 'Trade_Count', \n",
    "                   'Total_PnL', 'Avg_PnL', 'Unique_Traders', 'Avg_Price']\n",
    "\n",
    "correlation_matrix = merged_data[correlation_cols].corr()\n",
    "\n",
    "plt.figure(figsize=(12, 10))\n",
    "sns.heatmap(correlation_matrix, annot=True, cmap='RdYlBu_r', center=0, \n",
    "            square=True, fmt='.3f', cbar_kws={'shrink': 0.8})\n",
    "plt.title('Correlation Matrix: Market Sentiment vs Trading Metrics', fontsize=16, pad=20)\n",
    "plt.tight_layout()\n",
    "plt.savefig('outputs/correlation_matrix.png', dpi=300, bbox_inches='tight')\n",
    "plt.show()\n",
    "\n",
    "# Print key correlations\n",
    "print(\"Key Correlations with Fear & Greed Index:\")\n",
    "for col in correlation_cols[1:]:\n",
    "    corr = correlation_matrix.loc['value', col]\n",
    "    print(f\"{col}: {corr:.3f}\")"
   ]
  },
  {
   "cell_type": "markdown",
   "metadata": {},
   "source": [
    "## 5. Sentiment-Based Trading Behavior Analysis"
   ]
  },
  {
   "cell_type": "code",
   "execution_count": null,
   "metadata": {},
   "outputs": [],
   "source": [
    "# Analyze trading behavior by sentiment categories\n",
    "sentiment_analysis = merged_data.groupby('classification').agg({\n",
    "    'Total_Volume_USD': ['mean', 'std'],\n",
    "    'Trade_Count': ['mean', 'std'],\n",
    "    'Total_PnL': ['mean', 'std'],\n",
    "    'Unique_Traders': ['mean', 'std'],\n",
    "    'value': ['mean', 'min', 'max']\n",
    "}).round(2)\n",
    "\n",
    "print(\"Trading Behavior by Market Sentiment:\")\n",
    "display(sentiment_analysis)"
   ]
  },
  {
   "cell_type": "code",
   "execution_count": null,
   "metadata": {},
   "outputs": [],
   "source": [
    "# Visualize trading patterns by sentiment\n",
    "fig, axes = plt.subplots(2, 3, figsize=(18, 12))\n",
    "\n",
    "# Volume by sentiment\n",
    "sns.boxplot(data=merged_data, x='classification', y='Total_Volume_USD', ax=axes[0,0])\n",
    "axes[0,0].set_title('Trading Volume by Market Sentiment')\n",
    "axes[0,0].tick_params(axis='x', rotation=45)\n",
    "\n",
    "# Trade count by sentiment\n",
    "sns.boxplot(data=merged_data, x='classification', y='Trade_Count', ax=axes[0,1])\n",
    "axes[0,1].set_title('Number of Trades by Market Sentiment')\n",
    "axes[0,1].tick_params(axis='x', rotation=45)\n",
    "\n",
    "# PnL by sentiment\n",
    "sns.boxplot(data=merged_data, x='classification', y='Total_PnL', ax=axes[0,2])\n",
    "axes[0,2].set_title('Total PnL by Market Sentiment')\n",
    "axes[0,2].tick_params(axis='x', rotation=45)\n",
    "\n",
    "# Unique traders by sentiment\n",
    "sns.boxplot(data=merged_data, x='classification', y='Unique_Traders', ax=axes[1,0])\n",
    "axes[1,0].set_title('Unique Traders by Market Sentiment')\n",
    "axes[1,0].tick_params(axis='x', rotation=45)\n",
    "\n",
    "# Average trade size by sentiment\n",
    "sns.boxplot(data=merged_data, x='classification', y='Avg_Trade_Size_USD', ax=axes[1,1])\n",
    "axes[1,1].set_title('Average Trade Size by Market Sentiment')\n",
    "axes[1,1].tick_params(axis='x', rotation=45)\n",
    "\n",
    "# Average PnL by sentiment\n",
    "sns.boxplot(data=merged_data, x='classification', y='Avg_PnL', ax=axes[1,2])\n",
    "axes[1,2].set_title('Average PnL by Market Sentiment')\n",
    "axes[1,2].tick_params(axis='x', rotation=45)\n",
    "\n",
    "plt.tight_layout()\n",
    "plt.savefig('outputs/sentiment_trading_patterns.png', dpi=300, bbox_inches='tight')\n",
    "plt.show()"
   ]
  }
 ],
 "metadata": {
  "kernelspec": {
   "display_name": "Python 3",
   "language": "python",
   "name": "python3"
  },
  "language_info": {
   "codemirror_mode": {
    "name": "ipython",
    "version": 3
   },
   "file_extension": ".py",
   "mimetype": "text/x-python",
   "name": "python",
   "nbconvert_exporter": "python",
   "pygments_lexer": "ipython3",
   "version": "3.8.5"
  }
 },
 "nbformat": 4,
 "nbformat_minor": 4
}
